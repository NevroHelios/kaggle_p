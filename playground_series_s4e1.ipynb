{
  "cells": [
    {
      "cell_type": "markdown",
      "metadata": {
        "id": "view-in-github",
        "colab_type": "text"
      },
      "source": [
        "<a href=\"https://colab.research.google.com/github/NevroHelios/kaggle_p/blob/main/playground_series_s4e1.ipynb\" target=\"_parent\"><img src=\"https://colab.research.google.com/assets/colab-badge.svg\" alt=\"Open In Colab\"/></a>"
      ]
    },
    {
      "cell_type": "markdown",
      "metadata": {
        "id": "NwDSOi3bCt1j"
      },
      "source": [
        "# Load dataset"
      ]
    },
    {
      "cell_type": "code",
      "execution_count": null,
      "metadata": {
        "id": "Vxje6JeHCeyP",
        "colab": {
          "base_uri": "https://localhost:8080/"
        },
        "outputId": "655d2f1b-3196-4ecb-8de6-678ceb696958"
      },
      "outputs": [
        {
          "output_type": "stream",
          "name": "stdout",
          "text": [
            "mkdir: cannot create directory ‘/root/.kaggle’: File exists\n"
          ]
        }
      ],
      "source": [
        "!mkdir ~/.kaggle"
      ]
    },
    {
      "cell_type": "code",
      "execution_count": null,
      "metadata": {
        "id": "tU1VhaX0CxhF"
      },
      "outputs": [],
      "source": [
        "!cp kaggle.json ~/.kaggle/kaggle.json"
      ]
    },
    {
      "cell_type": "code",
      "execution_count": null,
      "metadata": {
        "id": "b21NgoO9C7AX",
        "outputId": "b56a694d-a1b6-4fd2-997e-eddaf37a222c",
        "colab": {
          "base_uri": "https://localhost:8080/"
        }
      },
      "outputs": [
        {
          "output_type": "stream",
          "name": "stdout",
          "text": [
            "Requirement already satisfied: kaggle in /usr/local/lib/python3.10/dist-packages (1.5.16)\n",
            "Requirement already satisfied: six>=1.10 in /usr/local/lib/python3.10/dist-packages (from kaggle) (1.16.0)\n",
            "Requirement already satisfied: certifi in /usr/local/lib/python3.10/dist-packages (from kaggle) (2023.11.17)\n",
            "Requirement already satisfied: python-dateutil in /usr/local/lib/python3.10/dist-packages (from kaggle) (2.8.2)\n",
            "Requirement already satisfied: requests in /usr/local/lib/python3.10/dist-packages (from kaggle) (2.31.0)\n",
            "Requirement already satisfied: tqdm in /usr/local/lib/python3.10/dist-packages (from kaggle) (4.66.1)\n",
            "Requirement already satisfied: python-slugify in /usr/local/lib/python3.10/dist-packages (from kaggle) (8.0.1)\n",
            "Requirement already satisfied: urllib3 in /usr/local/lib/python3.10/dist-packages (from kaggle) (2.0.7)\n",
            "Requirement already satisfied: bleach in /usr/local/lib/python3.10/dist-packages (from kaggle) (6.1.0)\n",
            "Requirement already satisfied: webencodings in /usr/local/lib/python3.10/dist-packages (from bleach->kaggle) (0.5.1)\n",
            "Requirement already satisfied: text-unidecode>=1.3 in /usr/local/lib/python3.10/dist-packages (from python-slugify->kaggle) (1.3)\n",
            "Requirement already satisfied: charset-normalizer<4,>=2 in /usr/local/lib/python3.10/dist-packages (from requests->kaggle) (3.3.2)\n",
            "Requirement already satisfied: idna<4,>=2.5 in /usr/local/lib/python3.10/dist-packages (from requests->kaggle) (3.6)\n"
          ]
        }
      ],
      "source": [
        "!pip install kaggle"
      ]
    },
    {
      "cell_type": "code",
      "execution_count": null,
      "metadata": {
        "id": "QklbjMVKC9C4"
      },
      "outputs": [],
      "source": [
        "!chmod 600 /root/.kaggle/kaggle.json"
      ]
    },
    {
      "cell_type": "code",
      "execution_count": null,
      "metadata": {
        "colab": {
          "base_uri": "https://localhost:8080/"
        },
        "id": "-DFChNhZDAOo",
        "outputId": "be35d93b-ad5a-41e1-9877-f30138468b39"
      },
      "outputs": [
        {
          "output_type": "stream",
          "name": "stdout",
          "text": [
            "Downloading playground-series-s4e1.zip to /content\n",
            " 59% 4.00M/6.81M [00:01<00:00, 4.73MB/s]\n",
            "100% 6.81M/6.81M [00:01<00:00, 5.31MB/s]\n"
          ]
        }
      ],
      "source": [
        "!kaggle competitions download -c playground-series-s4e1"
      ]
    },
    {
      "cell_type": "code",
      "execution_count": null,
      "metadata": {
        "colab": {
          "base_uri": "https://localhost:8080/"
        },
        "id": "DS9XdlzADMEV",
        "outputId": "ff909d64-d857-43f0-aef4-eae94ab45301"
      },
      "outputs": [
        {
          "output_type": "stream",
          "name": "stdout",
          "text": [
            "Archive:  playground-series-s4e1.zip\n",
            "  inflating: sample_submission.csv   \n",
            "  inflating: test.csv                \n",
            "  inflating: train.csv               \n"
          ]
        }
      ],
      "source": [
        "!unzip playground-series-s4e1.zip"
      ]
    },
    {
      "cell_type": "markdown",
      "metadata": {
        "id": "pkviCHnJDTzM"
      },
      "source": [
        "# Preprocessing\n"
      ]
    },
    {
      "cell_type": "code",
      "execution_count": null,
      "metadata": {
        "id": "9wNfshSoDgVL"
      },
      "outputs": [],
      "source": [
        "!pip install https://github.com/pandas-profiling/pandas-profiling/archive/master.zip"
      ]
    },
    {
      "cell_type": "code",
      "execution_count": null,
      "metadata": {
        "id": "p53gLRwVDRTn"
      },
      "outputs": [],
      "source": [
        "import pandas as pd\n",
        "# from pandas_profiling import ProfileReport"
      ]
    },
    {
      "cell_type": "code",
      "execution_count": null,
      "metadata": {
        "id": "_eLGOlviD4Wn"
      },
      "outputs": [],
      "source": [
        "df = pd.read_csv('train.csv')"
      ]
    },
    {
      "cell_type": "code",
      "execution_count": null,
      "metadata": {
        "id": "vU8flRKCD9sx",
        "colab": {
          "base_uri": "https://localhost:8080/",
          "height": 193
        },
        "outputId": "8f70b5d8-2ad2-4424-c492-a06072d22834"
      },
      "outputs": [
        {
          "output_type": "error",
          "ename": "NameError",
          "evalue": "name 'ProfileReport' is not defined",
          "traceback": [
            "\u001b[0;31m---------------------------------------------------------------------------\u001b[0m",
            "\u001b[0;31mNameError\u001b[0m                                 Traceback (most recent call last)",
            "\u001b[0;32m<ipython-input-14-9ec35654da93>\u001b[0m in \u001b[0;36m<cell line: 1>\u001b[0;34m()\u001b[0m\n\u001b[0;32m----> 1\u001b[0;31m \u001b[0mreport\u001b[0m \u001b[0;34m=\u001b[0m \u001b[0mProfileReport\u001b[0m\u001b[0;34m(\u001b[0m\u001b[0mdf\u001b[0m\u001b[0;34m)\u001b[0m\u001b[0;34m\u001b[0m\u001b[0;34m\u001b[0m\u001b[0m\n\u001b[0m\u001b[1;32m      2\u001b[0m \u001b[0mreport\u001b[0m\u001b[0;34m\u001b[0m\u001b[0;34m\u001b[0m\u001b[0m\n",
            "\u001b[0;31mNameError\u001b[0m: name 'ProfileReport' is not defined"
          ]
        }
      ],
      "source": [
        "report = ProfileReport(df)\n",
        "report"
      ]
    },
    {
      "cell_type": "code",
      "execution_count": null,
      "metadata": {
        "id": "uwYxbrJYD-jo"
      },
      "outputs": [],
      "source": [
        "df.columns"
      ]
    },
    {
      "cell_type": "code",
      "execution_count": null,
      "metadata": {
        "id": "jUr5DQs6Exir"
      },
      "outputs": [],
      "source": [
        "df[df.isna().any(axis=1)]"
      ]
    },
    {
      "cell_type": "code",
      "execution_count": null,
      "metadata": {
        "id": "1Nw7EH3XE0-I"
      },
      "outputs": [],
      "source": [
        "def preprocessing(df):\n",
        "  # drop id, customerId, surname\n",
        "  df.drop(['id', 'CustomerId', 'Surname'], axis=1, inplace=True)"
      ]
    },
    {
      "cell_type": "code",
      "execution_count": null,
      "metadata": {
        "id": "c1NsAsumGJao"
      },
      "outputs": [],
      "source": [
        "abt = df.copy()"
      ]
    },
    {
      "cell_type": "code",
      "execution_count": null,
      "metadata": {
        "id": "_BaGiYgfV5hs"
      },
      "outputs": [],
      "source": [
        "import seaborn as sns\n",
        "from matplotlib import pyplot as plt"
      ]
    },
    {
      "cell_type": "code",
      "execution_count": null,
      "metadata": {
        "id": "P0oRIzxeVkeZ"
      },
      "outputs": [],
      "source": [
        "abt['Gender'].value_counts()"
      ]
    },
    {
      "cell_type": "code",
      "execution_count": null,
      "metadata": {
        "id": "OQ2SIVLRW20F"
      },
      "outputs": [],
      "source": [
        "# abt.sample(n=200).plot(y='Gender', x='Exited', kind='bar', figsize=(15, 5))"
      ]
    },
    {
      "cell_type": "code",
      "execution_count": null,
      "metadata": {
        "id": "DcC4D5fFGLf9",
        "colab": {
          "base_uri": "https://localhost:8080/"
        },
        "outputId": "50b1b9fb-666c-42f5-cbbe-6c5f92215472"
      },
      "outputs": [
        {
          "output_type": "execute_result",
          "data": {
            "text/plain": [
              "Index(['CreditScore', 'Geography', 'Gender', 'Age', 'Tenure', 'Balance',\n",
              "       'NumOfProducts', 'HasCrCard', 'IsActiveMember', 'EstimatedSalary',\n",
              "       'Exited'],\n",
              "      dtype='object')"
            ]
          },
          "metadata": {},
          "execution_count": 18
        }
      ],
      "source": [
        "preprocessing(abt)\n",
        "abt.columns"
      ]
    },
    {
      "cell_type": "code",
      "execution_count": null,
      "metadata": {
        "id": "HoyuTT1FUwwp"
      },
      "outputs": [],
      "source": [
        "\n",
        "X.tail()"
      ]
    },
    {
      "cell_type": "markdown",
      "source": [
        "# Using DNN in tf"
      ],
      "metadata": {
        "id": "A7NVCXZ7a5QP"
      }
    },
    {
      "cell_type": "code",
      "source": [
        "import tensorflow as tf\n",
        "from tensorflow import keras\n",
        "from tensorflow.keras import layers"
      ],
      "metadata": {
        "id": "-igKd0qEa-V-"
      },
      "execution_count": null,
      "outputs": []
    },
    {
      "cell_type": "code",
      "source": [
        "X = pd.get_dummies(abt.drop('Exited', axis=1))\n",
        "y = abt['Exited']"
      ],
      "metadata": {
        "id": "dde2GSxPbMOp"
      },
      "execution_count": null,
      "outputs": []
    },
    {
      "cell_type": "code",
      "source": [
        "X_train, X_test, y_train, y_test = train_test_split(X, y, test_size=0.3, random_state=1234)"
      ],
      "metadata": {
        "id": "HzybV7KXqqu9"
      },
      "execution_count": null,
      "outputs": []
    },
    {
      "cell_type": "code",
      "source": [
        "import pandas as pd\n",
        "import numpy as np\n",
        "import tensorflow as tf\n",
        "from sklearn.model_selection import train_test_split\n",
        "from tensorflow.keras import Sequential\n",
        "from tensorflow.keras.layers import Dense\n",
        "from tensorflow.keras import regularizers\n",
        "from tensorflow.keras.layers import Conv2D, MaxPooling2D, Flatten, Dense\n",
        "from tensorflow.keras.layers import Dense, SimpleRNN, LSTM\n",
        "from tensorflow.keras.optimizers import Adam"
      ],
      "metadata": {
        "id": "z6EqMwHCqsGN"
      },
      "execution_count": null,
      "outputs": []
    },
    {
      "cell_type": "code",
      "source": [
        "X_train.shape"
      ],
      "metadata": {
        "id": "IxxuRN6KvP68"
      },
      "execution_count": null,
      "outputs": []
    },
    {
      "cell_type": "code",
      "source": [
        "# model = Sequential([\n",
        "#     Dense(64, activation='relu',kernel_regularizer=regularizers.l2(0.01), input_shape=(X_train.shape[1],)),\n",
        "#     Dense(64, activation='relu', kernel_regularizer=regularizers.l2(0.01)),\n",
        "#     Dense(32, activation='relu', kernel_regularizer=regularizers.l2(0.01)),\n",
        "#     Dense(32, activation='relu', kernel_regularizer=regularizers.l2(0.01)),\n",
        "#     Dense(1, activation='relu')\n",
        "# ])\n",
        "\n",
        "X_train_rnn = np.expand_dims(X_train.values, axis=2)\n",
        "X_test_rnn = np.expand_dims(X_test.values, axis=2)\n",
        "\n",
        "learning_rate = 0.1\n",
        "\n",
        "# Step 3: Build the RNN Model\n",
        "model = Sequential([\n",
        "    SimpleRNN(64, input_shape=(X_train_rnn.shape[1], X_train_rnn.shape[2])),\n",
        "    Dense(32, activation='relu'),\n",
        "    Dense(1, activation='sigmoid')\n",
        "])\n",
        "\n",
        "optimizer = Adam(learning_rate=learning_rate)"
      ],
      "metadata": {
        "id": "McfzNoWzbMBb"
      },
      "execution_count": null,
      "outputs": []
    },
    {
      "cell_type": "code",
      "source": [
        "model.compile(optimizer=optimizer, loss='binary_crossentropy', metrics=['accuracy'])"
      ],
      "metadata": {
        "id": "lcB0QyBWbL18"
      },
      "execution_count": null,
      "outputs": []
    },
    {
      "cell_type": "code",
      "source": [
        "model.fit(X_train, y_train, epochs=20, batch_size=32, validation_split=0.2)"
      ],
      "metadata": {
        "id": "WIgsMMAQrBOF"
      },
      "execution_count": null,
      "outputs": []
    },
    {
      "cell_type": "code",
      "source": [
        "test_loss, test_accuracy = model.evaluate(X_test, y_test)\n",
        "print(f\"Test Accuracy: {test_accuracy}\")"
      ],
      "metadata": {
        "id": "R1YSWnnwrEnC"
      },
      "execution_count": null,
      "outputs": []
    },
    {
      "cell_type": "markdown",
      "metadata": {
        "id": "EYgkUnaXGjzs"
      },
      "source": [
        "# Predictions"
      ]
    },
    {
      "cell_type": "code",
      "execution_count": null,
      "metadata": {
        "id": "d5sWj2-vGl8u"
      },
      "outputs": [],
      "source": [
        "from sklearn.preprocessing import StandardScaler\n",
        "from sklearn.model_selection import train_test_split\n",
        "from sklearn.pipeline import make_pipeline"
      ]
    },
    {
      "cell_type": "code",
      "execution_count": null,
      "metadata": {
        "id": "q-2lI9aVGPVH"
      },
      "outputs": [],
      "source": [
        "X = pd.get_dummies(abt.drop('Exited', axis=1))"
      ]
    },
    {
      "cell_type": "code",
      "execution_count": null,
      "metadata": {
        "id": "5WykH_6oGUor"
      },
      "outputs": [],
      "source": [
        "y = abt['Exited']"
      ]
    },
    {
      "cell_type": "code",
      "execution_count": null,
      "metadata": {
        "id": "WQ4Vh5FRGWPs"
      },
      "outputs": [],
      "source": [
        "X_train, X_test, y_train, y_test = train_test_split(X, y, test_size=0.3, random_state=1234)"
      ]
    },
    {
      "cell_type": "markdown",
      "metadata": {
        "id": "qnGFqGzAHgdI"
      },
      "source": [
        "# Pipeline"
      ]
    },
    {
      "cell_type": "code",
      "execution_count": null,
      "metadata": {
        "id": "VGGM4OXbHA-i"
      },
      "outputs": [],
      "source": [
        "from sklearn.model_selection import GridSearchCV\n",
        "from sklearn.ensemble import RandomForestRegressor, GradientBoostingRegressor\n",
        "from sklearn.linear_model import Lasso\n",
        "from sklearn.svm import SVR\n",
        "from sklearn.pipeline import make_pipeline\n",
        "from sklearn.preprocessing import StandardScaler\n",
        "from sklearn.metrics import mean_squared_error, mean_absolute_error, r2_score"
      ]
    },
    {
      "cell_type": "code",
      "execution_count": null,
      "metadata": {
        "id": "r3OeuSAsHjem"
      },
      "outputs": [],
      "source": [
        "pipelines = {\n",
        "    # 'rf': make_pipeline(StandardScaler(), RandomForestRegressor(random_state=1234)),\n",
        "    'gb': make_pipeline(StandardScaler(), GradientBoostingRegressor(random_state=1234)),\n",
        "    # 'lasso': make_pipeline(StandardScaler(), Lasso(random_state=1234))\n",
        "    # 'svr': make_pipeline(StandardScaler(), SVR())   # takes too long (2 hrs) to fit\n",
        "}\n"
      ]
    },
    {
      "cell_type": "code",
      "execution_count": null,
      "metadata": {
        "id": "AK-SxoYWHlZU"
      },
      "outputs": [],
      "source": [
        "grid = {\n",
        "    # 'rf': {\n",
        "    #     'randomforestregressor__n_estimators': [100, 200, 300]\n",
        "    # },\n",
        "    'gb': {\n",
        "        'gradientboostingregressor__n_estimators': [100, 200, 300],\n",
        "        'gradientboostingregressor__max_depth' : [8]\n",
        "    }\n",
        "    # 'lasso': {\n",
        "    #     'lasso__alpha': [0.1, 1.0, 10.0]\n",
        "    # }\n",
        "    # 'svr' : {\n",
        "    #      'svr__C': [0.1, 1.0, 10.0], 'svr__kernel': ['linear', 'rbf']\n",
        "    # }\n",
        "}"
      ]
    },
    {
      "cell_type": "code",
      "source": [
        "GradientBoostingRegressor"
      ],
      "metadata": {
        "id": "d86qupX1NcN4",
        "colab": {
          "base_uri": "https://localhost:8080/"
        },
        "outputId": "81610d24-0360-4219-cafa-21cae3bee024"
      },
      "execution_count": null,
      "outputs": [
        {
          "output_type": "execute_result",
          "data": {
            "text/plain": [
              "sklearn.ensemble._gb.GradientBoostingRegressor"
            ]
          },
          "metadata": {},
          "execution_count": 26
        }
      ]
    },
    {
      "cell_type": "code",
      "execution_count": null,
      "metadata": {
        "id": "p7jbLHm1LKuL"
      },
      "outputs": [],
      "source": [
        "# # Create the SVR model\n",
        "# svr = SVR()\n",
        "# # Fit the model to the training data\n",
        "# svr.fit(X_train, y_train)"
      ]
    },
    {
      "cell_type": "code",
      "execution_count": null,
      "metadata": {
        "id": "524m8SfgLXrO"
      },
      "outputs": [],
      "source": [
        "# # Make predictions on the test data\n",
        "# y_pred = svr.predict(X_test)\n",
        "# # Evaluate the model\n",
        "# from sklearn.metrics import mean_squared_error\n",
        "# mse = mean_squared_error(y_test, y_pred)\n",
        "# print('MSE:', mse)"
      ]
    },
    {
      "cell_type": "code",
      "execution_count": null,
      "metadata": {
        "id": "V1s0ip6_Hnim",
        "colab": {
          "base_uri": "https://localhost:8080/"
        },
        "outputId": "e11cc144-7c38-48e0-b45d-efdfa8bd9dde"
      },
      "outputs": [
        {
          "output_type": "stream",
          "name": "stdout",
          "text": [
            "Training the gb model\n"
          ]
        }
      ],
      "source": [
        "# dict to hold the models\n",
        "fit_models = {}\n",
        "# loop through the algos\n",
        "for algo, pipeline in pipelines.items():\n",
        "  print(f'Training the {algo} model')\n",
        "  # creating a gridSearchCV class\n",
        "  model = GridSearchCV(pipeline, grid[algo], n_jobs= -1, cv=15, scoring='neg_mean_squared_error')\n",
        "  # train the model\n",
        "  model.fit(X_train, y_train)\n",
        "  # store in dict\n",
        "  fit_models[algo] = model"
      ]
    },
    {
      "cell_type": "code",
      "execution_count": null,
      "metadata": {
        "id": "fZevYCOvLO-K",
        "colab": {
          "base_uri": "https://localhost:8080/"
        },
        "outputId": "4fa108e3-1313-4ced-fe26-3863fd52baef"
      },
      "outputs": [
        {
          "output_type": "stream",
          "name": "stdout",
          "text": [
            "Metrics for gb: Mean Squared Error - 0.09794017210146054, Mean Absolute Error - 0.19720504616242224, R-squared - 0.41469242392735317:\n"
          ]
        }
      ],
      "source": [
        "# evaluating the performance\n",
        "for algo, model in fit_models.items():\n",
        "    yhat = model.predict(X_test)\n",
        "\n",
        "    mse = mean_squared_error(y_test, yhat)\n",
        "    mae = mean_absolute_error(y_test, yhat)\n",
        "    r2 = r2_score(y_test, yhat)\n",
        "\n",
        "    print(f'Metrics for {algo}: Mean Squared Error - {mse}, Mean Absolute Error - {mae}, R-squared - {r2}:')"
      ]
    },
    {
      "cell_type": "markdown",
      "metadata": {
        "id": "Kxm1VRj1uAxc"
      },
      "source": [
        "# Predict on test data"
      ]
    },
    {
      "cell_type": "code",
      "execution_count": null,
      "metadata": {
        "id": "LsWL26YwLUMi",
        "colab": {
          "base_uri": "https://localhost:8080/",
          "height": 206
        },
        "outputId": "d9dac80d-17a3-468f-bf82-a39c06532614"
      },
      "outputs": [
        {
          "output_type": "execute_result",
          "data": {
            "text/plain": [
              "       id  CustomerId    Surname  CreditScore Geography  Gender   Age  Tenure  \\\n",
              "0  165034    15773898   Lucchese          586    France  Female  23.0       2   \n",
              "1  165035    15782418       Nott          683    France  Female  46.0       2   \n",
              "2  165036    15807120         K?          656    France  Female  34.0       7   \n",
              "3  165037    15808905  O'Donnell          681    France    Male  36.0       8   \n",
              "4  165038    15607314    Higgins          752   Germany    Male  38.0      10   \n",
              "\n",
              "     Balance  NumOfProducts  HasCrCard  IsActiveMember  EstimatedSalary  \n",
              "0       0.00              2        0.0             1.0        160976.75  \n",
              "1       0.00              1        1.0             0.0         72549.27  \n",
              "2       0.00              2        1.0             0.0        138882.09  \n",
              "3       0.00              1        1.0             0.0        113931.57  \n",
              "4  121263.62              1        1.0             0.0        139431.00  "
            ],
            "text/html": [
              "\n",
              "  <div id=\"df-c17c6e11-20a7-4b0f-b5c1-718329fa127c\" class=\"colab-df-container\">\n",
              "    <div>\n",
              "<style scoped>\n",
              "    .dataframe tbody tr th:only-of-type {\n",
              "        vertical-align: middle;\n",
              "    }\n",
              "\n",
              "    .dataframe tbody tr th {\n",
              "        vertical-align: top;\n",
              "    }\n",
              "\n",
              "    .dataframe thead th {\n",
              "        text-align: right;\n",
              "    }\n",
              "</style>\n",
              "<table border=\"1\" class=\"dataframe\">\n",
              "  <thead>\n",
              "    <tr style=\"text-align: right;\">\n",
              "      <th></th>\n",
              "      <th>id</th>\n",
              "      <th>CustomerId</th>\n",
              "      <th>Surname</th>\n",
              "      <th>CreditScore</th>\n",
              "      <th>Geography</th>\n",
              "      <th>Gender</th>\n",
              "      <th>Age</th>\n",
              "      <th>Tenure</th>\n",
              "      <th>Balance</th>\n",
              "      <th>NumOfProducts</th>\n",
              "      <th>HasCrCard</th>\n",
              "      <th>IsActiveMember</th>\n",
              "      <th>EstimatedSalary</th>\n",
              "    </tr>\n",
              "  </thead>\n",
              "  <tbody>\n",
              "    <tr>\n",
              "      <th>0</th>\n",
              "      <td>165034</td>\n",
              "      <td>15773898</td>\n",
              "      <td>Lucchese</td>\n",
              "      <td>586</td>\n",
              "      <td>France</td>\n",
              "      <td>Female</td>\n",
              "      <td>23.0</td>\n",
              "      <td>2</td>\n",
              "      <td>0.00</td>\n",
              "      <td>2</td>\n",
              "      <td>0.0</td>\n",
              "      <td>1.0</td>\n",
              "      <td>160976.75</td>\n",
              "    </tr>\n",
              "    <tr>\n",
              "      <th>1</th>\n",
              "      <td>165035</td>\n",
              "      <td>15782418</td>\n",
              "      <td>Nott</td>\n",
              "      <td>683</td>\n",
              "      <td>France</td>\n",
              "      <td>Female</td>\n",
              "      <td>46.0</td>\n",
              "      <td>2</td>\n",
              "      <td>0.00</td>\n",
              "      <td>1</td>\n",
              "      <td>1.0</td>\n",
              "      <td>0.0</td>\n",
              "      <td>72549.27</td>\n",
              "    </tr>\n",
              "    <tr>\n",
              "      <th>2</th>\n",
              "      <td>165036</td>\n",
              "      <td>15807120</td>\n",
              "      <td>K?</td>\n",
              "      <td>656</td>\n",
              "      <td>France</td>\n",
              "      <td>Female</td>\n",
              "      <td>34.0</td>\n",
              "      <td>7</td>\n",
              "      <td>0.00</td>\n",
              "      <td>2</td>\n",
              "      <td>1.0</td>\n",
              "      <td>0.0</td>\n",
              "      <td>138882.09</td>\n",
              "    </tr>\n",
              "    <tr>\n",
              "      <th>3</th>\n",
              "      <td>165037</td>\n",
              "      <td>15808905</td>\n",
              "      <td>O'Donnell</td>\n",
              "      <td>681</td>\n",
              "      <td>France</td>\n",
              "      <td>Male</td>\n",
              "      <td>36.0</td>\n",
              "      <td>8</td>\n",
              "      <td>0.00</td>\n",
              "      <td>1</td>\n",
              "      <td>1.0</td>\n",
              "      <td>0.0</td>\n",
              "      <td>113931.57</td>\n",
              "    </tr>\n",
              "    <tr>\n",
              "      <th>4</th>\n",
              "      <td>165038</td>\n",
              "      <td>15607314</td>\n",
              "      <td>Higgins</td>\n",
              "      <td>752</td>\n",
              "      <td>Germany</td>\n",
              "      <td>Male</td>\n",
              "      <td>38.0</td>\n",
              "      <td>10</td>\n",
              "      <td>121263.62</td>\n",
              "      <td>1</td>\n",
              "      <td>1.0</td>\n",
              "      <td>0.0</td>\n",
              "      <td>139431.00</td>\n",
              "    </tr>\n",
              "  </tbody>\n",
              "</table>\n",
              "</div>\n",
              "    <div class=\"colab-df-buttons\">\n",
              "\n",
              "  <div class=\"colab-df-container\">\n",
              "    <button class=\"colab-df-convert\" onclick=\"convertToInteractive('df-c17c6e11-20a7-4b0f-b5c1-718329fa127c')\"\n",
              "            title=\"Convert this dataframe to an interactive table.\"\n",
              "            style=\"display:none;\">\n",
              "\n",
              "  <svg xmlns=\"http://www.w3.org/2000/svg\" height=\"24px\" viewBox=\"0 -960 960 960\">\n",
              "    <path d=\"M120-120v-720h720v720H120Zm60-500h600v-160H180v160Zm220 220h160v-160H400v160Zm0 220h160v-160H400v160ZM180-400h160v-160H180v160Zm440 0h160v-160H620v160ZM180-180h160v-160H180v160Zm440 0h160v-160H620v160Z\"/>\n",
              "  </svg>\n",
              "    </button>\n",
              "\n",
              "  <style>\n",
              "    .colab-df-container {\n",
              "      display:flex;\n",
              "      gap: 12px;\n",
              "    }\n",
              "\n",
              "    .colab-df-convert {\n",
              "      background-color: #E8F0FE;\n",
              "      border: none;\n",
              "      border-radius: 50%;\n",
              "      cursor: pointer;\n",
              "      display: none;\n",
              "      fill: #1967D2;\n",
              "      height: 32px;\n",
              "      padding: 0 0 0 0;\n",
              "      width: 32px;\n",
              "    }\n",
              "\n",
              "    .colab-df-convert:hover {\n",
              "      background-color: #E2EBFA;\n",
              "      box-shadow: 0px 1px 2px rgba(60, 64, 67, 0.3), 0px 1px 3px 1px rgba(60, 64, 67, 0.15);\n",
              "      fill: #174EA6;\n",
              "    }\n",
              "\n",
              "    .colab-df-buttons div {\n",
              "      margin-bottom: 4px;\n",
              "    }\n",
              "\n",
              "    [theme=dark] .colab-df-convert {\n",
              "      background-color: #3B4455;\n",
              "      fill: #D2E3FC;\n",
              "    }\n",
              "\n",
              "    [theme=dark] .colab-df-convert:hover {\n",
              "      background-color: #434B5C;\n",
              "      box-shadow: 0px 1px 3px 1px rgba(0, 0, 0, 0.15);\n",
              "      filter: drop-shadow(0px 1px 2px rgba(0, 0, 0, 0.3));\n",
              "      fill: #FFFFFF;\n",
              "    }\n",
              "  </style>\n",
              "\n",
              "    <script>\n",
              "      const buttonEl =\n",
              "        document.querySelector('#df-c17c6e11-20a7-4b0f-b5c1-718329fa127c button.colab-df-convert');\n",
              "      buttonEl.style.display =\n",
              "        google.colab.kernel.accessAllowed ? 'block' : 'none';\n",
              "\n",
              "      async function convertToInteractive(key) {\n",
              "        const element = document.querySelector('#df-c17c6e11-20a7-4b0f-b5c1-718329fa127c');\n",
              "        const dataTable =\n",
              "          await google.colab.kernel.invokeFunction('convertToInteractive',\n",
              "                                                    [key], {});\n",
              "        if (!dataTable) return;\n",
              "\n",
              "        const docLinkHtml = 'Like what you see? Visit the ' +\n",
              "          '<a target=\"_blank\" href=https://colab.research.google.com/notebooks/data_table.ipynb>data table notebook</a>'\n",
              "          + ' to learn more about interactive tables.';\n",
              "        element.innerHTML = '';\n",
              "        dataTable['output_type'] = 'display_data';\n",
              "        await google.colab.output.renderOutput(dataTable, element);\n",
              "        const docLink = document.createElement('div');\n",
              "        docLink.innerHTML = docLinkHtml;\n",
              "        element.appendChild(docLink);\n",
              "      }\n",
              "    </script>\n",
              "  </div>\n",
              "\n",
              "\n",
              "<div id=\"df-c6f8394f-157a-4cd7-98f3-4d0b405ca285\">\n",
              "  <button class=\"colab-df-quickchart\" onclick=\"quickchart('df-c6f8394f-157a-4cd7-98f3-4d0b405ca285')\"\n",
              "            title=\"Suggest charts\"\n",
              "            style=\"display:none;\">\n",
              "\n",
              "<svg xmlns=\"http://www.w3.org/2000/svg\" height=\"24px\"viewBox=\"0 0 24 24\"\n",
              "     width=\"24px\">\n",
              "    <g>\n",
              "        <path d=\"M19 3H5c-1.1 0-2 .9-2 2v14c0 1.1.9 2 2 2h14c1.1 0 2-.9 2-2V5c0-1.1-.9-2-2-2zM9 17H7v-7h2v7zm4 0h-2V7h2v10zm4 0h-2v-4h2v4z\"/>\n",
              "    </g>\n",
              "</svg>\n",
              "  </button>\n",
              "\n",
              "<style>\n",
              "  .colab-df-quickchart {\n",
              "      --bg-color: #E8F0FE;\n",
              "      --fill-color: #1967D2;\n",
              "      --hover-bg-color: #E2EBFA;\n",
              "      --hover-fill-color: #174EA6;\n",
              "      --disabled-fill-color: #AAA;\n",
              "      --disabled-bg-color: #DDD;\n",
              "  }\n",
              "\n",
              "  [theme=dark] .colab-df-quickchart {\n",
              "      --bg-color: #3B4455;\n",
              "      --fill-color: #D2E3FC;\n",
              "      --hover-bg-color: #434B5C;\n",
              "      --hover-fill-color: #FFFFFF;\n",
              "      --disabled-bg-color: #3B4455;\n",
              "      --disabled-fill-color: #666;\n",
              "  }\n",
              "\n",
              "  .colab-df-quickchart {\n",
              "    background-color: var(--bg-color);\n",
              "    border: none;\n",
              "    border-radius: 50%;\n",
              "    cursor: pointer;\n",
              "    display: none;\n",
              "    fill: var(--fill-color);\n",
              "    height: 32px;\n",
              "    padding: 0;\n",
              "    width: 32px;\n",
              "  }\n",
              "\n",
              "  .colab-df-quickchart:hover {\n",
              "    background-color: var(--hover-bg-color);\n",
              "    box-shadow: 0 1px 2px rgba(60, 64, 67, 0.3), 0 1px 3px 1px rgba(60, 64, 67, 0.15);\n",
              "    fill: var(--button-hover-fill-color);\n",
              "  }\n",
              "\n",
              "  .colab-df-quickchart-complete:disabled,\n",
              "  .colab-df-quickchart-complete:disabled:hover {\n",
              "    background-color: var(--disabled-bg-color);\n",
              "    fill: var(--disabled-fill-color);\n",
              "    box-shadow: none;\n",
              "  }\n",
              "\n",
              "  .colab-df-spinner {\n",
              "    border: 2px solid var(--fill-color);\n",
              "    border-color: transparent;\n",
              "    border-bottom-color: var(--fill-color);\n",
              "    animation:\n",
              "      spin 1s steps(1) infinite;\n",
              "  }\n",
              "\n",
              "  @keyframes spin {\n",
              "    0% {\n",
              "      border-color: transparent;\n",
              "      border-bottom-color: var(--fill-color);\n",
              "      border-left-color: var(--fill-color);\n",
              "    }\n",
              "    20% {\n",
              "      border-color: transparent;\n",
              "      border-left-color: var(--fill-color);\n",
              "      border-top-color: var(--fill-color);\n",
              "    }\n",
              "    30% {\n",
              "      border-color: transparent;\n",
              "      border-left-color: var(--fill-color);\n",
              "      border-top-color: var(--fill-color);\n",
              "      border-right-color: var(--fill-color);\n",
              "    }\n",
              "    40% {\n",
              "      border-color: transparent;\n",
              "      border-right-color: var(--fill-color);\n",
              "      border-top-color: var(--fill-color);\n",
              "    }\n",
              "    60% {\n",
              "      border-color: transparent;\n",
              "      border-right-color: var(--fill-color);\n",
              "    }\n",
              "    80% {\n",
              "      border-color: transparent;\n",
              "      border-right-color: var(--fill-color);\n",
              "      border-bottom-color: var(--fill-color);\n",
              "    }\n",
              "    90% {\n",
              "      border-color: transparent;\n",
              "      border-bottom-color: var(--fill-color);\n",
              "    }\n",
              "  }\n",
              "</style>\n",
              "\n",
              "  <script>\n",
              "    async function quickchart(key) {\n",
              "      const quickchartButtonEl =\n",
              "        document.querySelector('#' + key + ' button');\n",
              "      quickchartButtonEl.disabled = true;  // To prevent multiple clicks.\n",
              "      quickchartButtonEl.classList.add('colab-df-spinner');\n",
              "      try {\n",
              "        const charts = await google.colab.kernel.invokeFunction(\n",
              "            'suggestCharts', [key], {});\n",
              "      } catch (error) {\n",
              "        console.error('Error during call to suggestCharts:', error);\n",
              "      }\n",
              "      quickchartButtonEl.classList.remove('colab-df-spinner');\n",
              "      quickchartButtonEl.classList.add('colab-df-quickchart-complete');\n",
              "    }\n",
              "    (() => {\n",
              "      let quickchartButtonEl =\n",
              "        document.querySelector('#df-c6f8394f-157a-4cd7-98f3-4d0b405ca285 button');\n",
              "      quickchartButtonEl.style.display =\n",
              "        google.colab.kernel.accessAllowed ? 'block' : 'none';\n",
              "    })();\n",
              "  </script>\n",
              "</div>\n",
              "\n",
              "    </div>\n",
              "  </div>\n"
            ]
          },
          "metadata": {},
          "execution_count": 31
        }
      ],
      "source": [
        "# read the test data\n",
        "test_df = pd.read_csv('test.csv')\n",
        "# copy it\n",
        "abt_test = test_df.copy()\n",
        "abt_test.head()"
      ]
    },
    {
      "cell_type": "code",
      "execution_count": null,
      "metadata": {
        "id": "vYNayE7HLnwF"
      },
      "outputs": [],
      "source": [
        "# preprocessing\n",
        "preprocessing(abt_test)\n",
        "abt_test = pd.get_dummies(abt_test)"
      ]
    },
    {
      "cell_type": "code",
      "execution_count": null,
      "metadata": {
        "id": "nEaw1KJQMBmV",
        "colab": {
          "base_uri": "https://localhost:8080/"
        },
        "outputId": "7d5aa670-ae63-4b96-f134-f456e9a0fcb3"
      },
      "outputs": [
        {
          "output_type": "execute_result",
          "data": {
            "text/plain": [
              "(110023, 13)"
            ]
          },
          "metadata": {},
          "execution_count": 33
        }
      ],
      "source": [
        "abt_test.shape"
      ]
    },
    {
      "cell_type": "code",
      "execution_count": null,
      "metadata": {
        "id": "GaIkAPVNMT8W",
        "colab": {
          "base_uri": "https://localhost:8080/"
        },
        "outputId": "f785e117-afe7-4015-971e-3bcc61b4f576"
      },
      "outputs": [
        {
          "output_type": "execute_result",
          "data": {
            "text/plain": [
              "(165034, 13)"
            ]
          },
          "metadata": {},
          "execution_count": 34
        }
      ],
      "source": [
        "X.shape"
      ]
    },
    {
      "cell_type": "code",
      "execution_count": null,
      "metadata": {
        "id": "yZk4BYXmXsZg",
        "colab": {
          "base_uri": "https://localhost:8080/"
        },
        "outputId": "b408ce2c-49a0-4fa8-d270-1f7b5759e3d8"
      },
      "outputs": [
        {
          "output_type": "execute_result",
          "data": {
            "text/plain": [
              "array([0.04356236, 0.82644579, 0.01952994, ..., 0.03829832, 0.15910121,\n",
              "       0.18385775])"
            ]
          },
          "metadata": {},
          "execution_count": 35
        }
      ],
      "source": [
        "yhat_test = fit_models['gb'].predict(abt_test)\n",
        "yhat_test"
      ]
    },
    {
      "cell_type": "markdown",
      "metadata": {
        "id": "Dzi11cdZuI6y"
      },
      "source": [
        "# Submit the results"
      ]
    },
    {
      "cell_type": "code",
      "execution_count": null,
      "metadata": {
        "id": "7Pl9lp0wX2W6"
      },
      "outputs": [],
      "source": [
        "submission = pd.DataFrame([test_df['id'], yhat_test]).T\n",
        "submission.columns = ['id', 'Exited']\n"
      ]
    },
    {
      "cell_type": "code",
      "execution_count": null,
      "metadata": {
        "id": "O7YBVZaDfU8e"
      },
      "outputs": [],
      "source": [
        "submission.to_csv('kaggle_submission.csv',index=False)"
      ]
    },
    {
      "cell_type": "code",
      "execution_count": null,
      "metadata": {
        "id": "k5eBItptfSod",
        "colab": {
          "base_uri": "https://localhost:8080/"
        },
        "outputId": "ef461a1f-b80e-4cce-dc43-7c4a9ccec4a0"
      },
      "outputs": [
        {
          "output_type": "stream",
          "name": "stdout",
          "text": [
            "Warning: Looks like you're using an outdated API Version, please consider updating (server 1.6.3 / client 1.5.16)\n",
            "100% 3.04M/3.04M [00:03<00:00, 900kB/s] \n",
            "Successfully submitted to Binary Classification with a Bank Churn Dataset "
          ]
        }
      ],
      "source": [
        "!kaggle competitions submit -c playground-series-s4e1 -m 'initial gb model' -f 'kaggle_submission.csv'"
      ]
    }
  ],
  "metadata": {
    "colab": {
      "provenance": [],
      "include_colab_link": true
    },
    "kernelspec": {
      "display_name": "Python 3",
      "name": "python3"
    },
    "language_info": {
      "name": "python"
    }
  },
  "nbformat": 4,
  "nbformat_minor": 0
}